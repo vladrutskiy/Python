{
 "cells": [
  {
   "cell_type": "markdown",
   "id": "643e99a0-259d-4c2e-a36f-291c7d67590b",
   "metadata": {},
   "source": [
    "It realy sux"
   ]
  },
  {
   "cell_type": "code",
   "execution_count": 1,
   "id": "18767386-0871-4748-822b-2ad923053357",
   "metadata": {},
   "outputs": [
    {
     "name": "stdout",
     "output_type": "stream",
     "text": [
      "this Udemy course sucks\n"
     ]
    }
   ],
   "source": [
    "print(\"this Udemy course sucks\")"
   ]
  },
  {
   "cell_type": "code",
   "execution_count": null,
   "id": "6119cf34-a9cd-4817-9dca-9a0790d104f0",
   "metadata": {},
   "outputs": [],
   "source": []
  },
  {
   "cell_type": "code",
   "execution_count": null,
   "id": "0162d1bb-1ad8-4739-a25d-cedd111d7775",
   "metadata": {},
   "outputs": [],
   "source": []
  }
 ],
 "metadata": {
  "kernelspec": {
   "display_name": "Python 3 (ipykernel)",
   "language": "python",
   "name": "python3"
  },
  "language_info": {
   "codemirror_mode": {
    "name": "ipython",
    "version": 3
   },
   "file_extension": ".py",
   "mimetype": "text/x-python",
   "name": "python",
   "nbconvert_exporter": "python",
   "pygments_lexer": "ipython3",
   "version": "3.13.1"
  }
 },
 "nbformat": 4,
 "nbformat_minor": 5
}
