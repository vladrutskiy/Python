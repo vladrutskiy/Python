{
 "cells": [
  {
   "cell_type": "markdown",
   "id": "643e99a0-259d-4c2e-a36f-291c7d67590b",
   "metadata": {},
   "source": [
    "It realy sux"
   ]
  },
  {
   "cell_type": "code",
   "execution_count": 2,
   "id": "18767386-0871-4748-822b-2ad923053357",
   "metadata": {},
   "outputs": [
    {
     "name": "stdout",
     "output_type": "stream",
     "text": [
      "this Udemy course sucks\n"
     ]
    }
   ],
   "source": [
    "print(\"this Udemy course sucks\")"
   ]
  },
  {
   "cell_type": "code",
   "execution_count": 3,
   "id": "6119cf34-a9cd-4817-9dca-9a0790d104f0",
   "metadata": {},
   "outputs": [],
   "source": [
    "# a + b + c + d + e = 30\n",
    "# c + e = 14\n",
    "# b + c = 10\n",
    "# d - b = 1 \n",
    "# b2 = a - 1\n",
    "\n",
    "\n",
    "#  a + b + d + 14 = 30\n",
    "#  a + b + d = 16\n",
    "#  \n",
    "\n",
    "def pins_total(pins_digits):\n",
    "    sum_digits = 0\n",
    "    for k in pins_digits:\n",
    "        sum_digits += pins_digits[k] \n",
    "    print(sum_digits)\n",
    "\n",
    "\n",
    "def pin_is_ok(pins_digits):\n",
    "    if pins_digits[\"fifth\"] + pins_digits[\"third\"] == 14 and \\\n",
    "    pins_digits[\"first\"] == pins_digits[\"second\"] * 2 - 1 and \\\n",
    "    pins_digits[\"forth\"] - 1 == pins_digits[\"second\"] and \\\n",
    "    pins_digits[\"second\"] + pins_digits[\"third\"] == 10 :\n",
    "        if pins_total(pins_digits) == 30:\n",
    "            return True\n",
    "\n",
    "# zfill adds \"0\" before number\n",
    "for pins in range(0, 100000):\n",
    "    this_pin = str(pins).zfill(5)\n",
    "\n",
    "    pins_digits = {}\n",
    "    pins_digits[\"first\"] = int(this_pin[0])\n",
    "    pins_digits[\"second\"] = int(this_pin[1])\n",
    "    pins_digits[\"third\"] = int(this_pin[2])\n",
    "    pins_digits[\"forth\"] = int(this_pin[3])\n",
    "    pins_digits[\"fifth\"] = int(this_pin[4])\n",
    "\n"
   ]
  },
  {
   "cell_type": "code",
   "execution_count": null,
   "id": "0162d1bb-1ad8-4739-a25d-cedd111d7775",
   "metadata": {},
   "outputs": [],
   "source": []
  }
 ],
 "metadata": {
  "kernelspec": {
   "display_name": "Python 3",
   "language": "python",
   "name": "python3"
  },
  "language_info": {
   "codemirror_mode": {
    "name": "ipython",
    "version": 3
   },
   "file_extension": ".py",
   "mimetype": "text/x-python",
   "name": "python",
   "nbconvert_exporter": "python",
   "pygments_lexer": "ipython3",
   "version": "3.13.1"
  }
 },
 "nbformat": 4,
 "nbformat_minor": 5
}
