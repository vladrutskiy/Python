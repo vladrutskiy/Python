{
 "cells": [
  {
   "cell_type": "code",
   "execution_count": 1,
   "id": "18767386-0871-4748-822b-2ad923053357",
   "metadata": {},
   "outputs": [
    {
     "name": "stdout",
     "output_type": "stream",
     "text": [
      "this Udemy course sucks\n"
     ]
    }
   ],
   "source": [
    "print(\"this Udemy course sucks\")"
   ]
  },
  {
   "cell_type": "markdown",
   "id": "5a0a4f8f-41d9-4d64-9a7e-e11d723b2521",
   "metadata": {},
   "source": [
    "It realy sux"
   ]
  }
 ],
 "metadata": {
  "kernelspec": {
   "display_name": "Python 3 (ipykernel)",
   "language": "python",
   "name": "python3"
  },
  "language_info": {
   "codemirror_mode": {
    "name": "ipython",
    "version": 3
   },
   "file_extension": ".py",
   "mimetype": "text/x-python",
   "name": "python",
   "nbconvert_exporter": "python",
   "pygments_lexer": "ipython3",
   "version": "3.13.1"
  }
 },
 "nbformat": 4,
 "nbformat_minor": 5
}
